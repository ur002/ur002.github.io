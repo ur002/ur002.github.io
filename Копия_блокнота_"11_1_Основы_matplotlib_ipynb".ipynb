{
  "nbformat": 4,
  "nbformat_minor": 0,
  "metadata": {
    "kernelspec": {
      "display_name": "Python3.7 (bayes)",
      "language": "python",
      "name": "bayes"
    },
    "language_info": {
      "codemirror_mode": {
        "name": "ipython",
        "version": 3
      },
      "file_extension": ".py",
      "mimetype": "text/x-python",
      "name": "python",
      "nbconvert_exporter": "python",
      "pygments_lexer": "ipython3",
      "version": "3.7.4"
    },
    "colab": {
      "name": "Копия блокнота \"11.1 Основы matplotlib.ipynb\"",
      "provenance": [],
      "collapsed_sections": [],
      "include_colab_link": true
    }
  },
  "cells": [
    {
      "cell_type": "markdown",
      "metadata": {
        "id": "view-in-github",
        "colab_type": "text"
      },
      "source": [
        "<a href=\"https://colab.research.google.com/github/ur002/ur002.github.io/blob/master/%D0%9A%D0%BE%D0%BF%D0%B8%D1%8F_%D0%B1%D0%BB%D0%BE%D0%BA%D0%BD%D0%BE%D1%82%D0%B0_%2211_1_%D0%9E%D1%81%D0%BD%D0%BE%D0%B2%D1%8B_matplotlib_ipynb%22.ipynb\" target=\"_parent\"><img src=\"https://colab.research.google.com/assets/colab-badge.svg\" alt=\"Open In Colab\"/></a>"
      ]
    },
    {
      "cell_type": "markdown",
      "metadata": {
        "id": "ThfSwOgH0SCp",
        "colab_type": "text"
      },
      "source": [
        "## Визуализация данных"
      ]
    },
    {
      "cell_type": "markdown",
      "metadata": {
        "id": "4pRmNyFp0SCz",
        "colab_type": "text"
      },
      "source": [
        "Для чего?\n",
        "- Первичное понимание данных.\n",
        "- Выбор соответствующих процедур для обработки данных, метода моделирования.\n",
        "- Коммуникация внутри команды.\n",
        "- Диалог с бизнес-заказчиком."
      ]
    },
    {
      "cell_type": "markdown",
      "metadata": {
        "id": "Y_xj5wEZ0SC8",
        "colab_type": "text"
      },
      "source": [
        "## График цен на акции Tesla"
      ]
    },
    {
      "cell_type": "markdown",
      "metadata": {
        "id": "6evZ2CnZ0SDC",
        "colab_type": "text"
      },
      "source": [
        "![title](https://248006.selcdn.ru/public/email/courses/Профессия%20Data%20Scientist/Tesla_detailed_prices.png)"
      ]
    },
    {
      "cell_type": "code",
      "metadata": {
        "id": "qxvfwFsIaIaO",
        "colab_type": "code",
        "colab": {}
      },
      "source": [
        ""
      ],
      "execution_count": null,
      "outputs": []
    },
    {
      "cell_type": "markdown",
      "metadata": {
        "id": "MNAYzL1waKEO",
        "colab_type": "text"
      },
      "source": [
        ""
      ]
    },
    {
      "cell_type": "markdown",
      "metadata": {
        "id": "SGaFyy3z0SDH",
        "colab_type": "text"
      },
      "source": [
        "![title](https://248006.selcdn.ru/public/email/courses/Профессия%20Data%20Scientist/matplotlib_logo.png)"
      ]
    },
    {
      "cell_type": "markdown",
      "metadata": {
        "id": "Sw0asbCg0SDL",
        "colab_type": "text"
      },
      "source": [
        "## Архитектура matplotlib"
      ]
    },
    {
      "cell_type": "markdown",
      "metadata": {
        "id": "q6aeoaJ60SD4",
        "colab_type": "text"
      },
      "source": [
        "Архитектура matplotlib состоит из трех уровней:\n",
        "1. Уровень вывода данных.\n",
        "2. Уровень рисования (объектно ориентированное API).\n",
        "3. Уровень сценариев (pyplot API)."
      ]
    },
    {
      "cell_type": "markdown",
      "metadata": {
        "id": "ChyjUJJ60SEF",
        "colab_type": "text"
      },
      "source": [
        "## Основные способы работы с библиотекой"
      ]
    },
    {
      "cell_type": "markdown",
      "metadata": {
        "id": "vYBkn7Cb0SEX",
        "colab_type": "text"
      },
      "source": [
        "1. Pyplot API.\n",
        "2. Объектно ориентированное API."
      ]
    },
    {
      "cell_type": "markdown",
      "metadata": {
        "id": "qljhjr-S0SEw",
        "colab_type": "text"
      },
      "source": [
        "## Pyplot API"
      ]
    },
    {
      "cell_type": "markdown",
      "metadata": {
        "id": "S4C3sCFx0SE1",
        "colab_type": "text"
      },
      "source": [
        "Pyplot — модуль, который содержит набор функций для работы с объектом класса Figure — одним из основных классов библиотеки matplotlib."
      ]
    },
    {
      "cell_type": "markdown",
      "metadata": {
        "id": "RupE-vWx0SFO",
        "colab_type": "text"
      },
      "source": [
        "## Детальное изучение pyplot API"
      ]
    },
    {
      "cell_type": "markdown",
      "metadata": {
        "id": "yyHrw-N40SFY",
        "colab_type": "text"
      },
      "source": [
        "### Функции plot и show"
      ]
    },
    {
      "cell_type": "markdown",
      "metadata": {
        "id": "GQ7llouw0SFk",
        "colab_type": "text"
      },
      "source": [
        "Plot — функция, изображающая с помощью линий или точек данные по x и y.\n",
        "\n",
        "Сигнатура функции:\n",
        "\n",
        "```\n",
        "plot([x], y, [fmt], *, data=None, ** kwargs)\n",
        "plot([x], y, [fmt], [x2], y2, [fmt2], ..., ** kwargs)\n",
        "```\n",
        "\n",
        "fmt — format strings:\n",
        "\n",
        "```\n",
        "fmt = '[marker][line][color]'\n",
        "```\n",
        "\n",
        "Возможный другой способ вызова функции:\n",
        "\n",
        "```\n",
        "plot('xlabel', 'ylabel', data=obj)\n",
        "```\n",
        "\n",
        "где data — размеченные данные, к которым можно обратиться по проименованным индексам  ```'xlabel', 'ylabel'```\n",
        "\n",
        "Show — функция, отображающая все фигуры."
      ]
    },
    {
      "cell_type": "code",
      "metadata": {
        "id": "tCLeWmSH0SFy",
        "colab_type": "code",
        "colab": {}
      },
      "source": [
        "import numpy as np\n",
        "import pandas as pd\n",
        "from matplotlib import pyplot as plt"
      ],
      "execution_count": null,
      "outputs": []
    },
    {
      "cell_type": "markdown",
      "metadata": {
        "id": "wx5sfcqD0SGT",
        "colab_type": "text"
      },
      "source": [
        "### Простой график тригонометрической функции"
      ]
    },
    {
      "cell_type": "code",
      "metadata": {
        "id": "NC5U9A4E0SGV",
        "colab_type": "code",
        "colab": {}
      },
      "source": [
        "x = np.linspace(-1, 1, 50)\n",
        "y = np.arcsin(x)"
      ],
      "execution_count": null,
      "outputs": []
    },
    {
      "cell_type": "code",
      "metadata": {
        "id": "w3wYNkyu0SG0",
        "colab_type": "code",
        "colab": {
          "base_uri": "https://localhost:8080/",
          "height": 265
        },
        "outputId": "f2e4d9f6-ec71-45b1-b4d2-3ad66714745a"
      },
      "source": [
        "plt.plot(x, y)\n",
        "plt.show()"
      ],
      "execution_count": null,
      "outputs": [
        {
          "output_type": "display_data",
          "data": {
            "image/png": "[encoded data removed]",
            "text/plain": [
              "<Figure size 432x288 with 1 Axes>"
            ]
          },
          "metadata": {
            "tags": [],
            "needs_background": "light"
          }
        }
      ]
    },
    {
      "cell_type": "markdown",
      "metadata": {
        "id": "Zm1F8dqe0SHA",
        "colab_type": "text"
      },
      "source": [
        "### Отрисовка точки"
      ]
    },
    {
      "cell_type": "code",
      "metadata": {
        "id": "eU-pD1K-0SHB",
        "colab_type": "code",
        "colab": {
          "base_uri": "https://localhost:8080/",
          "height": 265
        },
        "outputId": "e8ebbefa-b189-4741-f746-daa0b205d259"
      },
      "source": [
        "x = 5\n",
        "y = -5\n",
        "plt.plot([x], [y])\n",
        "plt.show()"
      ],
      "execution_count": null,
      "outputs": [
        {
          "output_type": "display_data",
          "data": {
            "image/png": "[encoded data removed]",
            "text/plain": [
              "<Figure size 432x288 with 1 Axes>"
            ]
          },
          "metadata": {
            "tags": [],
            "needs_background": "light"
          }
        }
      ]
    },
    {
      "cell_type": "code",
      "metadata": {
        "id": "FLF3rcnV0SHQ",
        "colab_type": "code",
        "colab": {},
        "outputId": "518cd2dc-715d-4362-f6c0-be490e90200a"
      },
      "source": [
        "plt.plot([x], [y], 'bo')\n",
        "plt.show()"
      ],
      "execution_count": null,
      "outputs": [
        {
          "output_type": "display_data",
          "data": {
            "image/png": "[encoded data removed]",
            "text/plain": [
              "<Figure size 432x288 with 1 Axes>"
            ]
          },
          "metadata": {
            "tags": []
          }
        }
      ]
    },
    {
      "cell_type": "markdown",
      "metadata": {
        "id": "MYmjJ6tw0SHc",
        "colab_type": "text"
      },
      "source": [
        "### Несколько линий на одном графике"
      ]
    },
    {
      "cell_type": "markdown",
      "metadata": {
        "id": "jTJE1ZrB0SHm",
        "colab_type": "text"
      },
      "source": [
        "### Несколько графиков с явно указанным форматированием"
      ]
    },
    {
      "cell_type": "code",
      "metadata": {
        "id": "u4gYLrIK0SHn",
        "colab_type": "code",
        "colab": {},
        "outputId": "767783f8-05cd-4075-acf1-e07e37fe2c8b"
      },
      "source": [
        "x = np.linspace(-1, 1, 50)\n",
        "plt.plot(x, x**2, 'r*', x, x**3, 'b^')\n",
        "plt.show()\n",
        "plt.plot(x, x**4, 'g*', x, x**5, 'y^')\n",
        "plt.show()"
      ],
      "execution_count": null,
      "outputs": [
        {
          "output_type": "display_data",
          "data": {
            "image/png": "[encoded data removed]",
            "text/plain": [
              "<Figure size 432x288 with 1 Axes>"
            ]
          },
          "metadata": {
            "tags": []
          }
        },
        {
          "output_type": "display_data",
          "data": {
            "image/png": "[encoded data removed]",
            "text/plain": [
              "<Figure size 432x288 with 1 Axes>"
            ]
          },
          "metadata": {
            "tags": []
          }
        }
      ]
    },
    {
      "cell_type": "markdown",
      "metadata": {
        "id": "mQAuN9c-0SHs",
        "colab_type": "text"
      },
      "source": [
        "### Пример на реальных данных стоимости акций Tesla"
      ]
    },
    {
      "cell_type": "code",
      "metadata": {
        "id": "kZ33eBLk0SHt",
        "colab_type": "code",
        "colab": {
          "base_uri": "https://localhost:8080/",
          "height": 181
        },
        "outputId": "c0a056aa-32f5-48c9-e06b-ddaa70522c66"
      },
      "source": [
        "data = pd.read_csv('Tesla.csv', parse_dates=True, index_col='Date')\n",
        "data.head()"
      ],
      "execution_count": null,
      "outputs": [
        {
          "output_type": "error",
          "ename": "NameError",
          "evalue": "ignored",
          "traceback": [
            "\u001b[0;31m---------------------------------------------------------------------------\u001b[0m",
            "\u001b[0;31mNameError\u001b[0m                                 Traceback (most recent call last)",
            "\u001b[0;32m<ipython-input-1-5a9761cd3294>\u001b[0m in \u001b[0;36m<module>\u001b[0;34m()\u001b[0m\n\u001b[0;32m----> 1\u001b[0;31m \u001b[0mdata\u001b[0m \u001b[0;34m=\u001b[0m \u001b[0mpd\u001b[0m\u001b[0;34m.\u001b[0m\u001b[0mread_csv\u001b[0m\u001b[0;34m(\u001b[0m\u001b[0;34m'Tesla.csv'\u001b[0m\u001b[0;34m,\u001b[0m \u001b[0mparse_dates\u001b[0m\u001b[0;34m=\u001b[0m\u001b[0;32mTrue\u001b[0m\u001b[0;34m,\u001b[0m \u001b[0mindex_col\u001b[0m\u001b[0;34m=\u001b[0m\u001b[0;34m'Date'\u001b[0m\u001b[0;34m)\u001b[0m\u001b[0;34m\u001b[0m\u001b[0;34m\u001b[0m\u001b[0m\n\u001b[0m\u001b[1;32m      2\u001b[0m \u001b[0mdata\u001b[0m\u001b[0;34m.\u001b[0m\u001b[0mhead\u001b[0m\u001b[0;34m(\u001b[0m\u001b[0;34m)\u001b[0m\u001b[0;34m\u001b[0m\u001b[0;34m\u001b[0m\u001b[0m\n",
            "\u001b[0;31mNameError\u001b[0m: name 'pd' is not defined"
          ]
        }
      ]
    },
    {
      "cell_type": "code",
      "metadata": {
        "id": "TME78Nvf0SHy",
        "colab_type": "code",
        "colab": {},
        "outputId": "a29a1c0f-789e-4fc7-b74e-3f7812fc55fa"
      },
      "source": [
        "plt.plot(data.index, data['High'])\n",
        "plt.plot(data.index, data['Low'])\n",
        "plt.show()"
      ],
      "execution_count": null,
      "outputs": [
        {
          "output_type": "display_data",
          "data": {
            "image/png": "[encoded data removed]",
            "text/plain": [
              "<Figure size 432x288 with 1 Axes>"
            ]
          },
          "metadata": {
            "tags": []
          }
        }
      ]
    },
    {
      "cell_type": "markdown",
      "metadata": {
        "id": "8xxIRkwP0SH6",
        "colab_type": "text"
      },
      "source": [
        "Необходимо:\n",
        "1. Добавить название графика.\n",
        "2. Подписать оси.\n",
        "3. Явно указать, какой график является самой высокой дневной ценой, а какой — самой низкой.\n",
        "4. Указать, где именно расположено 8 мая 2013 года."
      ]
    },
    {
      "cell_type": "markdown",
      "metadata": {
        "id": "dAdVvp3T0SH7",
        "colab_type": "text"
      },
      "source": [
        "## Дополнительные материалы"
      ]
    },
    {
      "cell_type": "markdown",
      "metadata": {
        "id": "gRziw2dV0SH8",
        "colab_type": "text"
      },
      "source": [
        "[Подробное описание устройства архитектуры matplotlib](http://rus-linux.net/MyLDP/BOOKS/Architecture-Open-Source-Applications/Vol-2/matplotlib-02.html)\n",
        "\n",
        "[Основные способы работы с matplotlib](https://matplotlib.org/3.2.0/api/index.html#usage-patterns)\n",
        "\n",
        "[Полный список функций модуля pyplot](https://matplotlib.org/3.2.0/api/_as_gen/matplotlib.pyplot.html#module-matplotlib.pyplot)\n",
        "\n",
        "[Документация по функции plot](https://matplotlib.org/3.1.0/api/_as_gen/matplotlib.pyplot.plot.html)\n",
        "\n",
        "[Документация по функции show](https://matplotlib.org/3.1.0/api/_as_gen/matplotlib.pyplot.show.html)"
      ]
    },
    {
      "cell_type": "markdown",
      "metadata": {
        "id": "4UfOWZoc0SH9",
        "colab_type": "text"
      },
      "source": [
        "## Практическое задание"
      ]
    },
    {
      "cell_type": "markdown",
      "metadata": {
        "id": "KLpc-vsF0SH-",
        "colab_type": "text"
      },
      "source": [
        "Нарисуйте с помощью функции plot:\n",
        "- $\\sqrt(x)$ — штриховая (dashed) линия с точками в форме ромбов (diamond) зелёного (green) цвета.\n",
        "- $\\sqrt[4](x)$ — пунктирная (dotted) линия с точками в форме крестиков (x marker) пурпурного (magenta) цвета.\n",
        "\n",
        "Используйте для этого документацию по функции plot."
      ]
    },
    {
      "cell_type": "code",
      "metadata": {
        "id": "KUXCCbmJg_7v",
        "colab_type": "code",
        "colab": {}
      },
      "source": [
        "x = np.linspace(0, 16, 30)\n",
        "y = np.sqrt(x)\n",
        "x2 = x\n",
        "y2 = np.sqrt(y)\n"
      ],
      "execution_count": null,
      "outputs": []
    },
    {
      "cell_type": "code",
      "metadata": {
        "id": "IA7Zi8s3hD_B",
        "colab_type": "code",
        "colab": {
          "base_uri": "https://localhost:8080/",
          "height": 299
        },
        "outputId": "36e24a03-c30f-4463-bf83-9f2bb05ea940"
      },
      "source": [
        "plt.plot(x, y, 'dg:', x2, y2, 'xm--' )"
      ],
      "execution_count": null,
      "outputs": [
        {
          "output_type": "execute_result",
          "data": {
            "text/plain": [
              "[<matplotlib.lines.Line2D at 0x7f85e04614e0>,\n",
              " <matplotlib.lines.Line2D at 0x7f85e0461630>]"
            ]
          },
          "metadata": {
            "tags": []
          },
          "execution_count": 32
        },
        {
          "output_type": "display_data",
          "data": {
            "image/png": "[encoded data removed]",
            "text/plain": [
              "<Figure size 432x288 with 1 Axes>"
            ]
          },
          "metadata": {
            "tags": [],
            "needs_background": "light"
          }
        }
      ]
    },
    {
      "cell_type": "code",
      "metadata": {
        "id": "vt4UZMLNh5iv",
        "colab_type": "code",
        "colab": {
          "base_uri": "https://localhost:8080/",
          "height": 265
        },
        "outputId": "46c885d2-c118-418a-958d-5acefb3c930d"
      },
      "source": [
        "x = np.linspace(0, 16, 30)\n",
        "plt.plot(x, np.power(x, 0.5), 'gd--')\n",
        "plt.plot(x, np.power(x, 0.25), 'mx:')\n",
        "plt.show()"
      ],
      "execution_count": null,
      "outputs": [
        {
          "output_type": "display_data",
          "data": {
            "image/png": "[encoded data removed]",
            "text/plain": [
              "<Figure size 432x288 with 1 Axes>"
            ]
          },
          "metadata": {
            "tags": [],
            "needs_background": "light"
          }
        }
      ]
    },
    {
      "cell_type": "code",
      "metadata": {
        "id": "Gz-XvaDhv724",
        "colab_type": "code",
        "colab": {}
      },
      "source": [
        ""
      ],
      "execution_count": null,
      "outputs": []
    }
  ]
}